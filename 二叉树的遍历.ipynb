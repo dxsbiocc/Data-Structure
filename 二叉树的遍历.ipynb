{
 "cells": [
  {
   "cell_type": "markdown",
   "metadata": {},
   "source": [
    "### 二叉树遍历算法\n",
    "\n",
    "##### 1、深度优先搜索（DFS）\n",
    "\n",
    "深度优先搜索算法（英语：Depth-First-Search，DFS）是一种用于遍历或搜索树或图的算法。沿着树的深度遍历树的节点，尽可能深的搜索树的分支。当节点v的所在边都己被探寻过，搜索将回溯到发现节点v的那条边的起始节点。这一过程一直进行到已发现从源节点可达的所有节点为止。如果还存在未被发现的节点，则选择其中一个作为源节点并重复以上过程，整个进程反复进行直到所有节点都被访问为止。属于盲目搜索。\n",
    "\n",
    "\n",
    "深度优先搜索策略又可以根据根节点、左孩子和右孩子的相对顺序被细分为先序遍历，中序遍历和后序遍历。\n",
    "\n",
    "- 1、前序遍历：根结点 ---> 左子树 ---> 右子树\n",
    "\n",
    "- 2、中序遍历：左子树---> 根结点 ---> 右子树\n",
    "\n",
    "- 3、后序遍历：左子树 ---> 右子树 ---> 根结点\n",
    "\n",
    "\n",
    "##### 2、宽度优先搜索（BFS）\n",
    "\n",
    "我们按照高度顺序一层一层的访问整棵树，高层次的节点将会比低层次的节点先被访问到。\n",
    "\n",
    "\n",
    "*下图中的顶点按照访问的顺序编号，按照 1-2-3-4-5 的顺序来比较不同的策略。*\n",
    "\n",
    "![avatar](树的遍历.png)"
   ]
  },
  {
   "cell_type": "code",
   "execution_count": 38,
   "metadata": {
    "ExecuteTime": {
     "end_time": "2019-10-27T06:40:42.790982Z",
     "start_time": "2019-10-27T06:40:42.785628Z"
    }
   },
   "outputs": [],
   "source": [
    "# 定义二叉树\n",
    "class TreeNode():\n",
    "    \"\"\"定义二叉树节点\"\"\"\n",
    "    def __init__(self, x):\n",
    "        self.val = x\n",
    "        self.left = None\n",
    "        self.right = None\n",
    "\n",
    "def create(alist):\n",
    "    \"\"\" a recursive helper function for deserialization.\"\"\"\n",
    "    if alist is None:\n",
    "        return None\n",
    "    \n",
    "    if alist[0] is None:\n",
    "        alist.pop(0)\n",
    "        return None\n",
    "\n",
    "    root = TreeNode(alist[0])\n",
    "    alist.pop(0)\n",
    "    root.left = create(alist)\n",
    "    root.right = create(alist)\n",
    "    return root"
   ]
  },
  {
   "cell_type": "markdown",
   "metadata": {
    "ExecuteTime": {
     "end_time": "2019-10-27T03:30:09.613186Z",
     "start_time": "2019-10-27T03:30:09.609034Z"
    }
   },
   "source": [
    "### 深度优先搜索（DFS）\n",
    "\n",
    "#### 1、递归遍历"
   ]
  },
  {
   "cell_type": "code",
   "execution_count": 56,
   "metadata": {
    "ExecuteTime": {
     "end_time": "2019-10-27T07:27:51.660309Z",
     "start_time": "2019-10-27T07:27:51.618443Z"
    },
    "code_folding": []
   },
   "outputs": [
    {
     "name": "stdout",
     "output_type": "stream",
     "text": [
      "前序遍历： [1, 2, 3, 4, 5]\n",
      "中序遍历： [1, 2, 3, 4, 5]\n",
      "后序遍历： [1, 2, 3, 4, 5]\n"
     ]
    }
   ],
   "source": [
    "class RecursiveDFS():\n",
    "    \n",
    "    \n",
    "    def preorderTraversal(self, root):\n",
    "        ans = []\n",
    "        def helper(root):\n",
    "            if not root:\n",
    "                return\n",
    "            ans.append(root.val)\n",
    "            helper(root.left)\n",
    "            helper(root.right)\n",
    "        helper(root)\n",
    "        return ans\n",
    "    \n",
    "    \n",
    "    def inorderTraversal(self, root):\n",
    "        ans = []\n",
    "        def helper(root):\n",
    "            if not root:\n",
    "                return\n",
    "            helper(root.left)\n",
    "            ans.append(root.val)\n",
    "            helper(root.right)\n",
    "        helper(root)\n",
    "        return ans\n",
    "    \n",
    "    \n",
    "    def postorderTraversal(self, root):\n",
    "        ans = []\n",
    "        def helper(root):\n",
    "            if not root:\n",
    "                return\n",
    "            helper(root.left)\n",
    "            helper(root.right)\n",
    "            ans.append(root.val)\n",
    "        helper(root)\n",
    "        return ans\n",
    "    \n",
    "    \n",
    "if __name__ == '__main__':\n",
    "    RDFS = RecursiveDFS()\n",
    "    alist = [1, 2, 3, None, None, 4, None, None, 5, None, None]\n",
    "    root = create(alist)\n",
    "    print(\"前序遍历：\", RDFS.preorderTraversal(root))\n",
    "    alist = [4, 2, 1, None, None, 3, None, None, 5, None, None]\n",
    "    root = create(alist)\n",
    "    print(\"中序遍历：\", RDFS.inorderTraversal(root))\n",
    "    alist = [5, 3, 1, None, None, 2, None, None, 4, None, None]\n",
    "    root = create(alist)\n",
    "    print(\"后序遍历：\", RDFS.postorderTraversal(root))"
   ]
  },
  {
   "cell_type": "markdown",
   "metadata": {},
   "source": [
    "#### 2、迭代遍历"
   ]
  },
  {
   "cell_type": "code",
   "execution_count": 62,
   "metadata": {
    "ExecuteTime": {
     "end_time": "2019-10-27T07:34:34.562428Z",
     "start_time": "2019-10-27T07:34:34.548540Z"
    },
    "code_folding": []
   },
   "outputs": [
    {
     "name": "stdout",
     "output_type": "stream",
     "text": [
      "前序遍历： [1, 2, 3, 4, 5]\n",
      "中序遍历： [1, 2, 3, 4, 5]\n",
      "后序遍历： [1, 2, 3, 4, 5]\n"
     ]
    }
   ],
   "source": [
    "class IterationDFS():\n",
    "    \n",
    "    \n",
    "    def preorderTraversal(self, root):\n",
    "        if root is None:\n",
    "            return []\n",
    "\n",
    "        stack, ans = [root, ], []\n",
    "\n",
    "        while stack:\n",
    "            root = stack.pop()\n",
    "            ans.append(root.val)\n",
    "            if root.right:\n",
    "                stack.append(root.right)\n",
    "            if root.left:\n",
    "                stack.append(root.left)\n",
    "        return ans\n",
    "\n",
    "    \n",
    "    def inorderTraversal(self, root):\n",
    "            stack, ans = [], []\n",
    "            # 用p当做指针\n",
    "            p = root\n",
    "            while p or stack:\n",
    "                # 把左子树压入栈中\n",
    "                while p:\n",
    "                    stack.append(p)\n",
    "                    p = p.left\n",
    "                # 输出 栈顶元素\n",
    "                p = stack.pop()\n",
    "                ans.append(p.val)\n",
    "                # 看右子树\n",
    "                p = p.right\n",
    "            return ans\n",
    "        \n",
    "    \n",
    "    def postorderTraversal(self, root):\n",
    "        if root is None:\n",
    "            return []\n",
    "\n",
    "        stack, ans = [root, ], []\n",
    "\n",
    "        while stack:\n",
    "            root = stack.pop()\n",
    "            ans.append(root.val)\n",
    "            if root.left:\n",
    "                stack.append(root.left)\n",
    "            if root.right:\n",
    "                stack.append(root.right)\n",
    "                \n",
    "        return ans[::-1]\n",
    "    \n",
    "    \n",
    "if __name__ == '__main__':\n",
    "    IDFS = IterationDFS()\n",
    "    alist = [1, 2, 3, None, None, 4, None, None, 5, None, None]\n",
    "    root = create(alist)\n",
    "    print(\"前序遍历：\", IDFS.preorderTraversal(root))\n",
    "    alist = [4, 2, 1, None, None, 3, None, None, 5, None, None]\n",
    "    root = create(alist)\n",
    "    print(\"中序遍历：\", IDFS.inorderTraversal(root))\n",
    "    alist = [5, 3, 1, None, None, 2, None, None, 4, None, None]\n",
    "    root = create(alist)\n",
    "    print(\"后序遍历：\", IDFS.postorderTraversal(root))"
   ]
  },
  {
   "cell_type": "markdown",
   "metadata": {
    "ExecuteTime": {
     "end_time": "2019-10-27T06:41:34.088014Z",
     "start_time": "2019-10-27T06:41:34.084573Z"
    }
   },
   "source": [
    "### 广度优先搜索（BFS）\n",
    "\n",
    "#### 1、递归\n",
    "\n",
    "**算法**\n",
    "\n",
    "首先确认树非空，然后调用递归函数 helper(node, level)，参数是当前节点和节点的层次。程序过程如下：\n",
    "\n",
    "- 输出列表称为 `levels`，当前最高层数就是列表的长度 `len(levels)`。比较访问节点所在的层次 `level` 和当前最高层次 `len(levels)` 的大小，如果前者更大就向 `levels` 添加一个空列表。\n",
    "- 将当前节点插入到对应层的列表 `levels[level]` 中。\n",
    "- 递归非空的孩子节点：`helper(node.left / node.right, level + 1)`。\n",
    "\n",
    "**实现**"
   ]
  },
  {
   "cell_type": "code",
   "execution_count": null,
   "metadata": {},
   "outputs": [],
   "source": [
    "def RecursiveBFS(root):\n",
    "    levels = []\n",
    "    if not root:\n",
    "        return levels\n",
    "\n",
    "    def helper(node, level):\n",
    "        # start the current level\n",
    "        if len(levels) == level:\n",
    "            levels.append([])\n",
    "\n",
    "        # append the current node value\n",
    "        levels[level].append(node.val)\n",
    "\n",
    "        # process child nodes for the next level\n",
    "        if node.left:\n",
    "            helper(node.left, level + 1)\n",
    "        if node.right:\n",
    "            helper(node.right, level + 1)\n",
    "\n",
    "    helper(root, 0)\n",
    "    return levels"
   ]
  },
  {
   "cell_type": "markdown",
   "metadata": {},
   "source": [
    "#### 2、迭代\n",
    "\n",
    "**算法**\n",
    "\n",
    "上面的递归方法也可以写成迭代的形式。\n",
    "\n",
    "我们将树上顶点按照层次依次放入队列结构中，队列中元素满足 FIFO（先进先出）的原则。。因此在 `Python` 中可以使用 `deque` 的 `append()` 和 `popleft()` 函数来快速实现队列的功能。\n",
    "\n",
    "第 0 层只包含根节点 `root` ，算法实现如下：\n",
    "\n",
    "- 初始化队列只包含一个节点 `root` 和层次编号 `0 ： level = 0`。\n",
    "- 当队列非空的时候：\n",
    "    - 1 在输出结果 `levels` 中插入一个空列表，开始当前层的算法。\n",
    "    - 2 计算当前层有多少个元素：等于队列的长度。\n",
    "    - 3 将这些元素从队列中弹出，并加入 `levels` 当前层的空列表中。\n",
    "    - 4 将他们的孩子节点作为下一层压入队列中。\n",
    "    - 5 进入下一层 `level++`。\n",
    "\n",
    "**实现**"
   ]
  },
  {
   "cell_type": "code",
   "execution_count": null,
   "metadata": {},
   "outputs": [],
   "source": [
    "from collections import deque\n",
    "\n",
    "def IterationDFS(root):\n",
    "    levels = []\n",
    "    if not root:\n",
    "        return levels\n",
    "\n",
    "    level = 0\n",
    "    queue = deque([root,])\n",
    "    while queue:\n",
    "        # start the current level\n",
    "        levels.append([])\n",
    "        # number of elements in the current level \n",
    "        level_length = len(queue)\n",
    "\n",
    "        for i in range(level_length):\n",
    "            node = queue.popleft()\n",
    "            # fulfill the current level\n",
    "            levels[level].append(node.val)\n",
    "\n",
    "            # add child nodes of the current level\n",
    "            # in the queue for the next level\n",
    "            if node.left:\n",
    "                queue.append(node.left)\n",
    "            if node.right:\n",
    "                queue.append(node.right)\n",
    "\n",
    "        # go to next level\n",
    "        level += 1\n",
    "\n",
    "    return levels"
   ]
  },
  {
   "cell_type": "markdown",
   "metadata": {},
   "source": [
    "## 练习题\n",
    "\n",
    "#### 1、员工的重要性\n",
    "\n",
    "给定一个保存员工信息的数据结构，它包含了员工**唯一的id**，**重要度** 和 **直系下属的id**。\n",
    "\n",
    "比如，员工1是员工2的领导，员工2是员工3的领导。他们相应的重要度为`15, 10, 5`。那么员工1的数据结构是`[1, 15, [2]]`，员工2的数据结构是`[2, 10, [3]]`，员工3的数据结构是`[3, 5, []]`。注意虽然员工3也是员工1的一个下属，但是由于并不是直系下属，因此没有体现在员工1的数据结构中。\n",
    "\n",
    "现在输入一个公司的所有员工信息，以及单个员工id，返回这个员工和他所有下属的重要度之和。\n",
    "\n",
    "**示例 1**:\n",
    "\n",
    "**输入**: `[[1, 5, [2, 3]], [2, 3, []], [3, 3, []]]`, `1`\n",
    "\n",
    "**输出**: `11`\n",
    "\n",
    "**解释**:\n",
    "\n",
    "员工1自身的重要度是`5`，他有两个直系下属`2`和`3`，而且2和3的重要度均为`3`。因此员工1的总重要度是 `5 + 3 + 3 = 11`。\n"
   ]
  },
  {
   "cell_type": "code",
   "execution_count": 68,
   "metadata": {
    "ExecuteTime": {
     "end_time": "2019-10-27T08:24:59.066269Z",
     "start_time": "2019-10-27T08:24:59.058167Z"
    }
   },
   "outputs": [
    {
     "name": "stdout",
     "output_type": "stream",
     "text": [
      "员工3 的重要性为: 3\n"
     ]
    }
   ],
   "source": [
    "class Employee:\n",
    "    def __init__(self, id, importance, subordinates):\n",
    "        # It's the unique id of each node.\n",
    "        # unique id of this employee\n",
    "        self.id = id\n",
    "        # the importance value of this employee\n",
    "        self.importance = importance\n",
    "        # the id of direct subordinates\n",
    "        self.subordinates = subordinates\n",
    "\n",
    "        \n",
    "def constructInput(alist):\n",
    "    employees = []\n",
    "    for eid, importance, subordinates in alist:\n",
    "        employees.append(Employee(eid, importance, subordinates))\n",
    "    return employees\n",
    "\n",
    "def getImportance(employees, query_id):\n",
    "    emap = {e.id: e for e in employees}\n",
    "    def dfs(eid):\n",
    "        employee = emap[eid]\n",
    "        return (employee.importance +\n",
    "                sum(dfs(eid) for eid in employee.subordinates))\n",
    "    return dfs(query_id)\n",
    "\n",
    "\n",
    "if __name__ == '__main__':\n",
    "    alist = [[1, 5, [2, 3]], [2, 3, []], [3, 3, []]]\n",
    "    employees = constructInput(alist)\n",
    "    query_id = 3\n",
    "    print(\"员工{} 的重要性为: {}\".format(query_id, \n",
    "                                  getImportance(employees, query_id)))"
   ]
  },
  {
   "cell_type": "markdown",
   "metadata": {},
   "source": [
    "#### 2、 腐烂的橘子\n",
    "\n",
    "在给定的网格中，每个单元格可以有以下三个值之一：\n",
    "\n",
    "- 值 `0` 代表空单元格；\n",
    "- 值 `1` 代表新鲜橘子；\n",
    "- 值 `2` 代表腐烂的橘子。\n",
    "\n",
    "每分钟，任何与腐烂的橘子（在 `4` 个正方向上）相邻的新鲜橘子都会腐烂。\n",
    "\n",
    "返回直到单元格中没有新鲜橘子为止所必须经过的最小分钟数。如果不可能，返回 -1。\n",
    "\n",
    "**示例 1**：\n",
    "![avatar](oranges.png)\n",
    "\n",
    "**输入**：`[[2,1,1],[1,1,0],[0,1,1]]`\n",
    "\n",
    "**输出**：`4`\n",
    "\n",
    "**示例 2**：\n",
    "\n",
    "**输入**：`[[2,1,1],[0,1,1],[1,0,1]]`\n",
    "\n",
    "**输出**：`-1`\n",
    "\n",
    "**解释**：左下角的橘子（第 `2` 行， 第 `0` 列）永远不会腐烂，因为腐烂只会发生在 `4` 个正向上。\n",
    "\n",
    "**示例 3**：\n",
    "\n",
    "**输入**：`[[0,2]]`\n",
    "\n",
    "**输出**：`0`\n",
    "\n",
    "**解释**：因为 `0` 分钟时已经没有新鲜橘子了，所以答案就是 `0` 。"
   ]
  },
  {
   "cell_type": "code",
   "execution_count": 73,
   "metadata": {
    "ExecuteTime": {
     "end_time": "2019-10-27T09:18:27.099500Z",
     "start_time": "2019-10-27T09:18:27.088606Z"
    }
   },
   "outputs": [
    {
     "name": "stdout",
     "output_type": "stream",
     "text": [
      "示例1： 4\n",
      "示例2： -1\n",
      "示例3： 0\n"
     ]
    }
   ],
   "source": [
    "from collections import deque\n",
    "\n",
    "def orangesRotting(grid):\n",
    "    R, C = len(grid), len(grid[0])\n",
    "\n",
    "    queue = deque()\n",
    "    for r, row in enumerate(grid):\n",
    "        for c, val in enumerate(row):\n",
    "            if val == 2:\n",
    "                queue.append((r, c, 0))\n",
    "\n",
    "    def neighbors(r, c):\n",
    "        directions = (\n",
    "            (r - 1,c), (r + 1,c),  # 上、下\n",
    "            (r,c - 1), (r,c + 1)   # 左、右\n",
    "        )\n",
    "        for nr, nc in directions:\n",
    "            if 0 <= nr < R and 0 <= nc < C:\n",
    "                yield nr, nc    # 生成器，每访问一次返回一个值\n",
    "\n",
    "    d = 0\n",
    "    while queue:\n",
    "        r, c, d = queue.popleft()\n",
    "        for nr, nc in neighbors(r, c):\n",
    "            if grid[nr][nc] == 1:\n",
    "                grid[nr][nc] = 2\n",
    "                queue.append((nr, nc, d+1))\n",
    "\n",
    "    if any(1 in row for row in grid):\n",
    "        return -1\n",
    "    return d\n",
    "\n",
    "\n",
    "if __name__ == '__main__':\n",
    "    grid = [[2, 1, 1],[1, 1, 0],[0, 1, 1]]\n",
    "    print(\"示例1：\", orangesRotting(grid))\n",
    "    \n",
    "    grid = [[2, 1, 1],[0, 1, 1],[1, 0, 1]]\n",
    "    print(\"示例2：\", orangesRotting(grid))\n",
    "    \n",
    "    grid = [[0, 2]]\n",
    "    print(\"示例3：\", orangesRotting(grid))"
   ]
  },
  {
   "cell_type": "markdown",
   "metadata": {},
   "source": [
    "#### 3、图像渲染\n",
    "\n",
    "有一幅以二维整数数组表示的图画，每一个整数表示该图画的像素值大小，数值在 `0` 到 `65535` 之间。\n",
    "\n",
    "给你一个坐标 `(sr, sc)` 表示图像渲染开始的像素值（行 ，列）和一个新的颜色值 `newColor`，让你重新上色这幅图像。\n",
    "\n",
    "为了完成上色工作，从初始坐标开始，记录初始坐标的上下左右四个方向上像素值与初始坐标相同的相连像素点，接着再记录这四个方向上符合条件的像素点与他们对应四个方向上像素值与初始坐标相同的相连像素点，……，重复该过程。将所有有记录的像素点的颜色值改为新的颜色值。\n",
    "\n",
    "最后返回经过上色渲染后的图像。\n",
    "\n",
    "**示例 1**:\n",
    "\n",
    "**输入**: \n",
    "\n",
    "`image = [[1,1,1],[1,1,0],[1,0,1]]\n",
    "sr = 1, sc = 1, newColor = 2`\n",
    "\n",
    "**输出**: `[[2,2,2],[2,2,0],[2,0,1]]`\n",
    "\n",
    "**解析**: \n",
    "\n",
    "在图像的正中间，(坐标(sr,sc)=(1,1)), 在路径上所有符合条件的像素点的颜色都被更改成2。注意，右下角的像素没有更改为2，因为它不是在上下左右四个方向上与初始点相连的像素点。"
   ]
  },
  {
   "cell_type": "code",
   "execution_count": 92,
   "metadata": {
    "ExecuteTime": {
     "end_time": "2019-10-27T11:20:48.752010Z",
     "start_time": "2019-10-27T11:20:48.735178Z"
    }
   },
   "outputs": [
    {
     "name": "stdout",
     "output_type": "stream",
     "text": [
      "深度优先(栈)： [[2, 2, 2], [2, 2, 0], [2, 0, 1]]\n",
      "深度优先(递归)： [[2, 2, 2], [2, 2, 0], [2, 0, 1]]\n",
      "广度优先： [[2, 2, 2], [2, 2, 0], [2, 0, 1]]\n"
     ]
    }
   ],
   "source": [
    "# 深度优先，栈\n",
    "def floodFillStack(image, sr, sc, newColor):\n",
    "    if newColor == image[sr][sc]:\n",
    "        return image\n",
    "    stack, old = [(sr, sc)], image[sr][sc]\n",
    "    while stack:\n",
    "        point = stack.pop()\n",
    "        image[point[0]][point[1]] = newColor\n",
    "        for new_i, new_j in zip((point[0], point[0], point[0] + 1, point[0] - 1), (point[1] + 1, point[1] - 1, point[1], point[1])): \n",
    "            if 0 <= new_i < len(image) and 0 <= new_j < len(image[0]) and image[new_i][new_j] == old:\n",
    "                stack.append((new_i, new_j))\n",
    "    return image\n",
    "\n",
    "# 深度优先，递归\n",
    "def floodFillRecursive(image, sr, sc, newColor):\n",
    "    if image[sr][sc] != newColor:\n",
    "        old, image[sr][sc] = image[sr][sc], newColor\n",
    "        for i, j in zip((sr, sr+1, sr, sr-1), (sc+1, sc, sc-1, sc)):\n",
    "            if 0 <= i < len(image) and 0 <= j < len(image[0]) and image[i][j] == old:\n",
    "                self.floodFill(image, i, j, newColor)\n",
    "    return image\n",
    "\n",
    "# 广度优先，队列\n",
    "def floodFillQueue(image, sr, sc, newColor):\n",
    "    if newColor == image[sr][sc]:\n",
    "        return image\n",
    "    \n",
    "    R, C = len(image), len(image[0])\n",
    "    queue, orignal,  = deque([(sr, sc)]), image[sr][sc]\n",
    "    \n",
    "    def neighbors(r, c):\n",
    "        directions = (\n",
    "            (r - 1,c), (r + 1,c),  # 上、下\n",
    "            (r,c - 1), (r,c + 1)   # 左、右\n",
    "        )\n",
    "        for nr, nc in directions:\n",
    "            if 0 <= nr < R and 0 <= nc < C and image[nr][nc] == orignal:\n",
    "                yield nr, nc    # 生成器，每访问一次返回一个值\n",
    "                \n",
    "    while queue:\n",
    "        r, c = queue.popleft()\n",
    "        image[r][c] = newColor\n",
    "        for nr, nc in neighbors(r, c):\n",
    "            queue.append((nr, nc))\n",
    "    return image\n",
    "\n",
    "\n",
    "if __name__ == '__main__':\n",
    "    image = [[1, 1, 1], [1, 1, 0], [1, 0, 1]]\n",
    "    sr, sc, newColor = 1, 1, 2\n",
    "    print(\"深度优先(栈)：\", floodFillStack(image, sr, sc, newColor))\n",
    "    print(\"深度优先(递归)：\", floodFillRecursive(image, sr, sc, newColor))\n",
    "    print(\"广度优先：\", floodFillQueue(image, sr, sc, newColor))"
   ]
  },
  {
   "cell_type": "markdown",
   "metadata": {
    "ExecuteTime": {
     "end_time": "2019-10-27T11:18:59.686787Z",
     "start_time": "2019-10-27T11:18:59.684185Z"
    }
   },
   "source": [
    "#### 4、叶子相似的树\n",
    "\n",
    "请考虑一颗二叉树上所有的叶子，这些叶子的值按从左到右的顺序排列形成一个 叶值序列 。\n",
    "\n",
    "![avatar](tree.png)\n",
    "\n",
    "举个例子，如上图所示，给定一颗叶值序列为 (6, 7, 4, 9, 8) 的树。\n",
    "\n",
    "如果有两颗二叉树的叶值序列是相同，那么我们就认为它们是 叶相似 的。\n",
    "\n",
    "如果给定的两个头结点分别为 root1 和 root2 的树是叶相似的，则返回 true；否则返回 false 。"
   ]
  },
  {
   "cell_type": "code",
   "execution_count": 94,
   "metadata": {
    "ExecuteTime": {
     "end_time": "2019-10-27T11:57:37.512141Z",
     "start_time": "2019-10-27T11:57:37.502740Z"
    }
   },
   "outputs": [
    {
     "name": "stdout",
     "output_type": "stream",
     "text": [
      "示例1： True\n",
      "示例2： False\n"
     ]
    }
   ],
   "source": [
    "def leafSimilar(root1, root2):\n",
    "    def dfs(node):\n",
    "        if node:\n",
    "            if not node.left and not node.right:\n",
    "                yield node.val\n",
    "            yield from dfs(node.left)\n",
    "            yield from dfs(node.right)\n",
    "    return (list(dfs(root1)) == list(dfs(root2)))\n",
    "\n",
    "\n",
    "if __name__ == '__main__':\n",
    "    alist = [\n",
    "        3, 5, 6, None, None, 2, 7, None, None, 4, None, None,\n",
    "        1, 9, None, None, 8, None, None\n",
    "    ]\n",
    "    blist = [\n",
    "        4, 9, 6, None, None, 5, 7, None, None, 4, None, None,\n",
    "        2, 9, None, None, 8, None, None\n",
    "    ]\n",
    "    \n",
    "    root1 = create(alist)\n",
    "    root2 = create(blist)\n",
    "    \n",
    "    print(\"示例1：\", leafSimilar(root1, root2))\n",
    "    \n",
    "    alist = [\n",
    "        3, 5, 6, None, None, 2, 7, None, None, 4, None, None,\n",
    "        1, 9, None, None, 8, None, None\n",
    "    ]\n",
    "    blist = [\n",
    "        9, 5, 3, None, None, 5, 7, None, None, 4, None, None,\n",
    "        2, 9, None, None, 8, None, None\n",
    "    ]\n",
    "    \n",
    "    root1 = create(alist)\n",
    "    root2 = create(blist)\n",
    "    \n",
    "    print(\"示例2：\", leafSimilar(root1, root2))"
   ]
  },
  {
   "cell_type": "code",
   "execution_count": 80,
   "metadata": {
    "ExecuteTime": {
     "end_time": "2019-10-27T11:11:01.782169Z",
     "start_time": "2019-10-27T11:11:01.778286Z"
    }
   },
   "outputs": [
    {
     "data": {
      "text/plain": [
       "(1, 2)"
      ]
     },
     "execution_count": 80,
     "metadata": {},
     "output_type": "execute_result"
    }
   ],
   "source": [
    "d.popleft()"
   ]
  },
  {
   "cell_type": "code",
   "execution_count": 88,
   "metadata": {
    "ExecuteTime": {
     "end_time": "2019-10-27T11:19:02.225154Z",
     "start_time": "2019-10-27T11:19:02.221633Z"
    }
   },
   "outputs": [
    {
     "data": {
      "text/plain": [
       "deque([1, 2])"
      ]
     },
     "execution_count": 88,
     "metadata": {},
     "output_type": "execute_result"
    }
   ],
   "source": [
    "d"
   ]
  },
  {
   "cell_type": "code",
   "execution_count": null,
   "metadata": {},
   "outputs": [],
   "source": []
  }
 ],
 "metadata": {
  "kernelspec": {
   "display_name": "Python 3",
   "language": "python",
   "name": "python3"
  },
  "language_info": {
   "codemirror_mode": {
    "name": "ipython",
    "version": 3
   },
   "file_extension": ".py",
   "mimetype": "text/x-python",
   "name": "python",
   "nbconvert_exporter": "python",
   "pygments_lexer": "ipython3",
   "version": "3.7.3"
  }
 },
 "nbformat": 4,
 "nbformat_minor": 2
}
