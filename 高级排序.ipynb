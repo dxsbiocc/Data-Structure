{
 "cells": [
  {
   "cell_type": "markdown",
   "metadata": {},
   "source": [
    "## 高级排序算法\n",
    "\n",
    "#### 1、归并排序（Merge Sort）\n",
    "\n",
    "归并排序是建立在归并操作上的一种有效的排序算法。该算法是采用分治法（Divide and Conquer）的一个非常典型的应用。将已有序的子序列合并，得到完全有序的序列；即先使每个子序列有序，再使子序列段间有序。若将两个有序表合并成一个有序表，称为2-路归并。 \n",
    "\n",
    "##### 1.1 算法描述\n",
    "\n",
    "- 把长度为n的输入序列分成两个长度为n/2的子序列；\n",
    "- 对这两个子序列分别采用归并排序；\n",
    "- 将两个排序好的子序列合并成一个最终的排序序列。\n",
    "\n",
    "##### 1.2 动图演示1\n",
    "![avatar](mergeSort.gif)\n",
    "\n",
    "##### 1.2 动图演示2\n",
    "![avatar](Merge-sort.gif)\n",
    "\n",
    "[^_^]:\n",
    "![avatar](https://images2017.cnblogs.com/blog/849589/201710/849589-20171015230557043-37375010.gif)"
   ]
  },
  {
   "cell_type": "code",
   "execution_count": 6,
   "metadata": {
    "ExecuteTime": {
     "end_time": "2019-10-17T02:40:47.261441Z",
     "start_time": "2019-10-17T02:40:47.252652Z"
    }
   },
   "outputs": [
    {
     "name": "stdout",
     "output_type": "stream",
     "text": [
      "original: [1, 4, 2, 3.6, -1, 0, 25, -34, 8, 9, 1, 0]\n",
      "Sorted: [-34, -1, 0, 0, 1, 1, 2, 3.6, 4, 8, 9, 25]\n"
     ]
    }
   ],
   "source": [
    "# 归并排序\n",
    "def merge(left, right):\n",
    "    result = []\n",
    "    while left and right:\n",
    "        if left[0] <= right[0]:\n",
    "            result.append(left.pop(0))\n",
    "        else:\n",
    "            result.append(right.pop(0))\n",
    "    if left:\n",
    "        result += left\n",
    "    if right:\n",
    "        result += right\n",
    "    return result\n",
    "\n",
    "\n",
    "def merge_sort(L):\n",
    "    if len(L) <= 1:\n",
    "        # When D&C to 1 element, just return it\n",
    "        return L\n",
    "    mid = len(L) // 2\n",
    "    left = L[:mid]\n",
    "    right = L[mid:]\n",
    "\n",
    "    left = merge_sort(left)\n",
    "    right = merge_sort(right)\n",
    "    # conquer sub-problem recursively\n",
    "    return merge(left, right)\n",
    "    # return the answer of sub-problem\n",
    "\n",
    "\n",
    "if __name__ == \"__main__\":\n",
    "    test = [1, 4, 2, 3.6, -1, 0, 25, -34, 8, 9, 1, 0]\n",
    "    print(\"original:\", test)\n",
    "    print(\"Sorted:\", merge_sort(test))"
   ]
  },
  {
   "cell_type": "markdown",
   "metadata": {},
   "source": [
    "#### 2、快速排序（Quick Sort）\n",
    "快速排序的基本思想：通过一趟排序将待排记录分隔成独立的两部分，其中一部分记录的关键字均比另一部分的关键字小，则可分别对这两部分记录继续进行排序，以达到整个序列有序。\n",
    "\n",
    "##### 2.1 算法描述\n",
    "快速排序使用分治法来把一个串（list）分为两个子串（sub-lists）。具体算法描述如下：\n",
    "\n",
    "- 从数列中挑出一个元素，称为 “基准”（pivot）；\n",
    "- 重新排序数列，所有元素比基准值小的摆放在基准前面，所有元素比基准值大的摆在基准的后面（相同的数可以到任一边）。在这个分区退出之后，该基准就处于数列的中间位置。这个称为分区（partition）操作；\n",
    "- 递归地（recursive）把小于基准值元素的子数列和大于基准值元素的子数列排序。\n",
    "##### 2.2 动图演示\n",
    "\n",
    "![avatar](quickSort.gif)\n",
    "\n",
    "[^_^]:\n",
    "![avatar](https://images2017.cnblogs.com/blog/849589/201710/849589-20171015230936371-1413523412.gif)"
   ]
  },
  {
   "cell_type": "code",
   "execution_count": 5,
   "metadata": {
    "ExecuteTime": {
     "end_time": "2019-10-17T02:40:35.435476Z",
     "start_time": "2019-10-17T02:40:35.426315Z"
    }
   },
   "outputs": [
    {
     "data": {
      "text/plain": [
       "[0, 1, 1, 2, 3, 4, 5, 6, 7, 8, 9]"
      ]
     },
     "execution_count": 5,
     "metadata": {},
     "output_type": "execute_result"
    }
   ],
   "source": [
    "# 快速排序\n",
    "def quick_sort(numbers):\n",
    "    import random\n",
    "    if len(numbers) <= 1:\n",
    "        return numbers\n",
    "\n",
    "    left, right, mid = [], [], []\n",
    "    pivot = random.choice(numbers)\n",
    "\n",
    "    for number in numbers:\n",
    "        if number == pivot:\n",
    "            mid.append(number)\n",
    "        elif number < pivot:\n",
    "            left.append(number)\n",
    "        else:\n",
    "            right.append(number)\n",
    "\n",
    "    return quick_sort(left) + mid + quick_sort(right)\n",
    "\n",
    "numbers = [9, 8, 7, 6, 5, 4, 3, 2, 1, 1, 0]\n",
    "quick_sort(numbers)"
   ]
  },
  {
   "cell_type": "markdown",
   "metadata": {},
   "source": [
    "#### 3、堆排序（Heap Sort）\n",
    "\n",
    "**通常堆是通过一维数组来实现的。在数组起始位置为0的情形中**：\n",
    "\n",
    "- 父节点 `i` 的左子节点在位置 `(2i+1)`;\n",
    "- 父节点 `i` 的右子节点在位置 `(2i+2)`;\n",
    "- 子节点 `i` 的父节点在位置 `floor((i-1)/2)`;\n",
    "\n",
    "堆排序（Heapsort）是指利用堆这种数据结构所设计的一种排序算法。堆积是一个近似完全二叉树的结构，并同时满足堆积的性质：即子结点的键值或索引总是小于（或者大于）它的父节点。\n",
    "\n",
    "##### 3.1 算法描述\n",
    "- 将初始待排序关键字序列(R1,R2….Rn)构建成大顶堆，此堆为初始的无序区；\n",
    "- 将堆顶元素R[1]与最后一个元素R[n]交换，此时得到新的无序区(R1,R2,……Rn-1)和新的有序区(Rn),且满足R[1,2…n-1]<=R[n]；\n",
    "- 由于交换后新的堆顶R[1]可能违反堆的性质，因此需要对当前无序区(R1,R2,……Rn-1)调整为新堆，然后再次将R[1]与无序区最后一个元素交换，得到新的无序区(R1,R2….Rn-2)和新的有序区(Rn-1,Rn)。不断重复此过程直到有序区的元素个数为n-1，则整个排序过程完成。\n",
    "\n",
    "##### 3.2 动图演示\n",
    "![avatar](heapSort.gif)\n",
    "\n",
    "[^_^]:\n",
    "![avatar](https://images2017.cnblogs.com/blog/849589/201710/849589-20171015231308699-356134237.gif)"
   ]
  },
  {
   "cell_type": "code",
   "execution_count": 8,
   "metadata": {
    "ExecuteTime": {
     "end_time": "2019-10-17T02:41:04.648029Z",
     "start_time": "2019-10-17T02:41:04.639377Z"
    }
   },
   "outputs": [
    {
     "name": "stdout",
     "output_type": "stream",
     "text": [
      "[1, 2, 3, 4, 5, 6, 7, 8, 9]\n"
     ]
    }
   ],
   "source": [
    "# 堆排序\n",
    "def heap_sort(lst):\n",
    "    def sift_down(start, end):\n",
    "        \"\"\"最大堆调整\"\"\"\n",
    "        root = start\n",
    "        while True:\n",
    "            # 获取第一个孩子结点\n",
    "            child = 2 * root + 1\n",
    "            if child > end:\n",
    "                break\n",
    "            if child + 1 <= end and lst[child] < lst[child + 1]:  # 值更大的孩子节点\n",
    "                child += 1\n",
    "            if lst[root] < lst[child]:  # 比较父节点与子节点的大小，使父节点大于子节点\n",
    "                lst[root], lst[child] = lst[child], lst[root]\n",
    "                root = child\n",
    "            else:\n",
    "                break\n",
    "\n",
    "    # 创建最大堆\n",
    "    for start in range((len(lst) - 2) // 2, -1, -1):\n",
    "        sift_down(start, len(lst) - 1)\n",
    "\n",
    "    # 堆排序\n",
    "    for end in range(len(lst) - 1, 0, -1):\n",
    "        lst[0], lst[end] = lst[end], lst[0]\n",
    "        sift_down(0, end - 1)\n",
    "    return lst\n",
    "\n",
    "\n",
    "\n",
    "if __name__ == \"__main__\":\n",
    "    l = [9, 2, 1, 7, 6, 8, 5, 3, 4]\n",
    "    heap_sort(l)\n",
    "    print(l)"
   ]
  },
  {
   "cell_type": "markdown",
   "metadata": {},
   "source": [
    "## 排序算法应用练习题"
   ]
  },
  {
   "cell_type": "markdown",
   "metadata": {},
   "source": [
    "### 1、用户网站访问行为分析\n",
    "\n",
    "为了评估某网站的用户转化率，我们需要对用户的访问行为进行分析，并建立用户行为模型。日志文件中已经记录了用户名、访问时间 以及 页面路径。\n",
    "\n",
    "为了方便分析，日志文件中的 `N` 条记录已经被解析成三个长度相同且长度都为 `N` 的数组，分别是：用户名 `username`，访问时间 `timestamp` 和 页面路径 `website`。第 `i` 条记录意味着用户名是 `username[i]` 的用户在 `timestamp[i]` 的时候访问了路径为 `website[i]` 的页面。\n",
    "\n",
    "我们需要找到用户访问网站时的 『共性行为路径』，也就是有最多的用户都 至少按某种次序访问过一次 的三个页面路径。需要注意的是，用户 可能不是连续访问 这三个路径的。\n",
    "\n",
    "『共性行为路径』是一个 长度为 `3` 的页面路径列表，列表中的路径 不必不同，并且按照访问时间的先后升序排列。\n",
    "\n",
    "如果有多个满足要求的答案，那么就请返回按字典序排列最小的那个。（页面路径列表 X 按字典序小于 Y 的前提条件是：\n",
    "`X[0] < Y[0] 或 X[0] == Y[0] 且 (X[1] < Y[1] 或 X[1] == Y[1] 且 X[2] < Y[2])）`\n",
    "\n",
    "题目保证一个用户会至少访问 `3` 个路径一致的页面，并且一个用户不会在同一时间访问两个路径不同的页面。\n",
    "\n",
    "**示例**：\n",
    "\n",
    "**输入**：\n",
    "```python\n",
    "username = [\"joe\",\"joe\",\"joe\",\"james\",\"james\",\"james\",\"james\",\"mary\",\"mary\",\"mary\"]\n",
    "timestamp = [1,2,3,4,5,6,7,8,9,10]\n",
    "website = [\"home\",\"about\",\"career\",\"home\",\"cart\",\"maps\",\"home\",\"home\",\"about\",\"career\"]\n",
    "```\n",
    "**输出**：\n",
    "\n",
    "```python\n",
    "[\"home\",\"about\",\"career\"]\n",
    "```\n",
    "\n",
    "**解释**：\n",
    "\n",
    "由示例输入得到的记录如下：\n",
    "```python\n",
    "[\"joe\", 1, \"home\"]\n",
    "[\"joe\", 2, \"about\"]\n",
    "[\"joe\", 3, \"career\"]\n",
    "[\"james\", 4, \"home\"]\n",
    "[\"james\", 5, \"cart\"]\n",
    "[\"james\", 6, \"maps\"]\n",
    "[\"james\", 7, \"home\"]\n",
    "[\"mary\", 8, \"home\"]\n",
    "[\"mary\", 9, \"about\"]\n",
    "[\"mary\", 10, \"career\"]\n",
    "```\n",
    "有 2 个用户至少访问过一次 `(\"home\", \"about\", \"career\")`。\n",
    "\n",
    "有 1 个用户至少访问过一次 `(\"home\", \"cart\", \"maps\")`。\n",
    "\n",
    "有 1 个用户至少访问过一次 `(\"home\", \"cart\", \"home\")`。\n",
    "\n",
    "有 1 个用户至少访问过一次 `(\"home\", \"maps\", \"home\")`。\n",
    "\n",
    "有 1 个用户至少访问过一次 `(\"cart\", \"maps\", \"home\")`。\n"
   ]
  },
  {
   "cell_type": "code",
   "execution_count": 1,
   "metadata": {
    "ExecuteTime": {
     "end_time": "2019-10-20T12:19:36.559800Z",
     "start_time": "2019-10-20T12:19:36.543877Z"
    }
   },
   "outputs": [
    {
     "name": "stdout",
     "output_type": "stream",
     "text": [
      "输出： ['home', 'about', 'career']\n"
     ]
    }
   ],
   "source": [
    "def mostVisitedPattern(username, timestamp, website):\n",
    "    from itertools import combinations\n",
    "    from collections import Counter\n",
    "\n",
    "    utw = sorted(zip(username, timestamp, website), key=lambda x: x[1])\n",
    "    mapping = {}\n",
    "    for u, _, w in utw:\n",
    "        if u in mapping:\n",
    "            mapping[u].append(w)\n",
    "        else:\n",
    "            mapping[u] = [w]\n",
    "    res = []\n",
    "    for _, v in mapping.items():\n",
    "        res.extend(list(set(combinations(v, 3))))\n",
    "    c = Counter(res) \n",
    "    return list(sorted(c.most_common(), key=lambda x : (-x[1], x[0]))[0][0])\n",
    "\n",
    "\n",
    "if __name__ == \"__main__\":\n",
    "    username = [\"joe\",\"joe\",\"joe\",\"james\",\"james\",\"james\",\"james\",\"mary\",\"mary\",\"mary\"]\n",
    "    timestamp = [1,2,3,4,5,6,7,8,9,10]\n",
    "    website = [\"home\",\"about\",\"career\",\"home\",\"cart\",\"maps\",\"home\",\"home\",\"about\",\"career\"]\n",
    "    print(\"输出：\", mostVisitedPattern(username, timestamp, website))"
   ]
  },
  {
   "cell_type": "markdown",
   "metadata": {},
   "source": [
    "### 2、校园自行车分配\n",
    "\n",
    "在由 `2D` 网格表示的校园里有 `n` 位工人（`worker`）和 m 辆自行车（`bike`），`n <= m`。所有工人和自行车的位置都用网格上的 `2D` 坐标表示。\n",
    "\n",
    "我们需要为每位工人分配一辆自行车。在所有可用的自行车和工人中，我们选取彼此之间曼哈顿距离最短的工人自行车对  `(worker, bike)` ，并将其中的自行车分配給工人。如果有多个 `(worker, bike)` 对之间的曼哈顿距离相同，那么我们选择工人索引最小的那对。类似地，如果有多种不同的分配方法，则选择自行车索引最小的一对。不断重复这一过程，直到所有工人都分配到自行车为止。\n",
    "\n",
    "给定两点 `p1` 和 `p2` 之间的曼哈顿距离为 `Manhattan(p1, p2) = |p1.x - p2.x| + |p1.y - p2.y|`。\n",
    "\n",
    "返回长度为 `n` 的向量 `ans`，其中 `a[i]` 是第 `i` 位工人分配到的自行车的索引（从 `0` 开始）。\n",
    "\n",
    "**示例 1**：\n",
    "![avatar](1261_example_1_v2.png)\n",
    "\n",
    "![avatar](https://assets.leetcode-cn.com/aliyun-lc-upload/uploads/2019/03/16/1261_example_1_v2.png)\n",
    "\n",
    "**输入**：\n",
    "```python\n",
    "workers = [[0,0],[2,1]]\n",
    "bikes = [[1,2],[3,3]]\n",
    "```\n",
    "\n",
    "**输出**：\n",
    "\n",
    "`[1,0]`\n",
    "\n",
    "**解释**：\n",
    "\n",
    "工人 `1` 分配到自行车 `0`，因为他们最接近且不存在冲突，工人 `0` 分配到自行车 `1` 。所以输出是 `[1,0]`。\n",
    "\n",
    "**示例 2**：\n",
    "![avatar](1261_example_2_v2.png)\n",
    "\n",
    "![avatar](https://assets.leetcode-cn.com/aliyun-lc-upload/uploads/2019/03/16/1261_example_2_v2.png)\n",
    "\n",
    "**输入**：\n",
    "```python\n",
    "workers = [[0,0],[1,1],[2,0]]\n",
    "bikes = [[1,0],[2,2],[2,1]]\n",
    "```\n",
    "\n",
    "**输出**：\n",
    "\n",
    "`[0,2,1]`\n",
    "\n",
    "**解释**：\n",
    "\n",
    "工人 `0` 首先分配到自行车 `0` 。工人 `1` 和工人 `2` 与自行车 `2` 距离相同，因此工人 `1` 分配到自行车 `2`，工人 `2` 将分配到自行车 `1` 。因此输出为 `[0,2,1]`。"
   ]
  },
  {
   "cell_type": "code",
   "execution_count": 3,
   "metadata": {
    "ExecuteTime": {
     "end_time": "2019-10-20T12:36:05.786238Z",
     "start_time": "2019-10-20T12:36:05.774001Z"
    }
   },
   "outputs": [
    {
     "name": "stdout",
     "output_type": "stream",
     "text": [
      "示例1：\n",
      "Workers:  [[0, 0], [2, 1]]\n",
      "Bikes:  [[1, 2], [3, 3]]\n",
      "输出： [1, 0]\n",
      "示例2：\n",
      "Workers:  [[0, 0], [1, 1], [2, 0]]\n",
      "Bikes:  [[1, 0], [2, 2], [2, 1]]\n",
      "输出： [0, 2, 1]\n"
     ]
    }
   ],
   "source": [
    "def assignBikes(workers, bikes):\n",
    "    Manhattan = lambda x, y : abs(x[0] - y[0]) + abs(x[1] - y[1])\n",
    "    W = len(workers)\n",
    "    res = [-1] * W\n",
    "    visited = [False] * len(bikes)\n",
    "    wbd = []\n",
    "    for i, w in enumerate(workers):\n",
    "        for j, b in enumerate(bikes):\n",
    "            d = Manhattan(w, b)\n",
    "            wbd.append((i, j, d))\n",
    "    wbd.sort(key=lambda x : x[2])\n",
    "    sign = 0\n",
    "    for w, b, _ in wbd:\n",
    "        if not visited[b] and res[w] == -1:\n",
    "            visited[b] = True\n",
    "            res[w] = b\n",
    "            sign += 1\n",
    "            if sign == W: break\n",
    "    return res\n",
    "\n",
    "\n",
    "if __name__ == \"__main__\":\n",
    "    workers = [[0,0],[2,1]]\n",
    "    bikes = [[1,2],[3,3]]\n",
    "    print(\"示例1：\")\n",
    "    print(\"Workers: \", workers)\n",
    "    print(\"Bikes: \", bikes)\n",
    "    print(\"输出：\", assignBikes(workers, bikes))\n",
    "    \n",
    "    workers = [[0,0],[1,1],[2,0]]\n",
    "    bikes = [[1,0],[2,2],[2,1]]\n",
    "    print(\"示例2：\")\n",
    "    print(\"Workers: \", workers)\n",
    "    print(\"Bikes: \", bikes)\n",
    "    print(\"输出：\", assignBikes(workers, bikes))"
   ]
  },
  {
   "cell_type": "code",
   "execution_count": null,
   "metadata": {},
   "outputs": [],
   "source": []
  }
 ],
 "metadata": {
  "kernelspec": {
   "display_name": "Python 3",
   "language": "python",
   "name": "python3"
  },
  "language_info": {
   "codemirror_mode": {
    "name": "ipython",
    "version": 3
   },
   "file_extension": ".py",
   "mimetype": "text/x-python",
   "name": "python",
   "nbconvert_exporter": "python",
   "pygments_lexer": "ipython3",
   "version": "3.7.3"
  }
 },
 "nbformat": 4,
 "nbformat_minor": 2
}
